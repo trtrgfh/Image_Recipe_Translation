{
 "cells": [
  {
   "cell_type": "code",
   "execution_count": 1,
   "id": "2da66d86-f978-4c07-800b-9a4f78eb113e",
   "metadata": {
    "id": "2da66d86-f978-4c07-800b-9a4f78eb113e"
   },
   "outputs": [],
   "source": [
    "import numpy as np\n",
    "import time"
   ]
  },
  {
   "cell_type": "code",
   "execution_count": 2,
   "id": "6941fdd7-dfe9-45b0-9f94-1e8debaea524",
   "metadata": {
    "id": "6941fdd7-dfe9-45b0-9f94-1e8debaea524"
   },
   "outputs": [],
   "source": [
    "topicModel = 'LDA' # 'LDA' OR 'NMF'\n",
    "\n",
    "# Load train features and labels\n",
    "model1_features_train = np.load('./data/interim/model1_features_train_' + topicModel + '.npz')\n",
    "features_train = model1_features_train['features_train']\n",
    "labels_train = model1_features_train['labels_train']\n",
    "imagePath_train = model1_features_train['imagePath_train']\n",
    "\n",
    "# Load test features and labels\n",
    "model1_features_test = np.load('./data/interim/model1_features_test_' + topicModel + '.npz')\n",
    "features_test = model1_features_test['features_test']\n",
    "labels_test = model1_features_test['labels_test']\n",
    "imagePath_test = model1_features_test['imagePath_test']"
   ]
  },
  {
   "cell_type": "code",
   "execution_count": 3,
   "id": "66680f82-b094-465b-820a-f55458dd1358",
   "metadata": {},
   "outputs": [
    {
     "data": {
      "text/plain": [
       "(33687, 768)"
      ]
     },
     "execution_count": 3,
     "metadata": {},
     "output_type": "execute_result"
    }
   ],
   "source": [
    "features_train.shape"
   ]
  },
  {
   "cell_type": "code",
   "execution_count": 4,
   "id": "0af6d049-0670-4ad9-834c-c2138eefe49f",
   "metadata": {
    "id": "0af6d049-0670-4ad9-834c-c2138eefe49f",
    "outputId": "1553bb85-309a-4439-c1aa-f3b191e71f88"
   },
   "outputs": [
    {
     "name": "stdout",
     "output_type": "stream",
     "text": [
      "finished 100 of 7431\n",
      "finished 200 of 7431\n",
      "finished 300 of 7431\n",
      "finished 400 of 7431\n",
      "finished 500 of 7431\n",
      "finished 600 of 7431\n",
      "finished 700 of 7431\n",
      "finished 800 of 7431\n",
      "finished 900 of 7431\n",
      "finished 1000 of 7431\n",
      "finished 1100 of 7431\n",
      "finished 1200 of 7431\n",
      "finished 1300 of 7431\n",
      "finished 1400 of 7431\n",
      "finished 1500 of 7431\n",
      "finished 1600 of 7431\n",
      "finished 1700 of 7431\n",
      "finished 1800 of 7431\n",
      "finished 1900 of 7431\n",
      "finished 2000 of 7431\n",
      "finished 2100 of 7431\n",
      "finished 2200 of 7431\n",
      "finished 2300 of 7431\n",
      "finished 2400 of 7431\n",
      "finished 2500 of 7431\n",
      "finished 2600 of 7431\n",
      "finished 2700 of 7431\n",
      "finished 2800 of 7431\n",
      "finished 2900 of 7431\n",
      "finished 3000 of 7431\n",
      "finished 3100 of 7431\n",
      "finished 3200 of 7431\n",
      "finished 3300 of 7431\n",
      "finished 3400 of 7431\n",
      "finished 3500 of 7431\n",
      "finished 3600 of 7431\n",
      "finished 3700 of 7431\n",
      "finished 3800 of 7431\n",
      "finished 3900 of 7431\n",
      "finished 4000 of 7431\n",
      "finished 4100 of 7431\n",
      "finished 4200 of 7431\n",
      "finished 4300 of 7431\n",
      "finished 4400 of 7431\n",
      "finished 4500 of 7431\n",
      "finished 4600 of 7431\n",
      "finished 4700 of 7431\n",
      "finished 4800 of 7431\n",
      "finished 4900 of 7431\n",
      "finished 5000 of 7431\n",
      "finished 5100 of 7431\n",
      "finished 5200 of 7431\n",
      "finished 5300 of 7431\n",
      "finished 5400 of 7431\n",
      "finished 5500 of 7431\n",
      "finished 5600 of 7431\n",
      "finished 5700 of 7431\n",
      "finished 5800 of 7431\n",
      "finished 5900 of 7431\n",
      "finished 6000 of 7431\n",
      "finished 6100 of 7431\n",
      "finished 6200 of 7431\n",
      "finished 6300 of 7431\n",
      "finished 6400 of 7431\n",
      "finished 6500 of 7431\n",
      "finished 6600 of 7431\n",
      "finished 6700 of 7431\n",
      "finished 6800 of 7431\n",
      "finished 6900 of 7431\n",
      "finished 7000 of 7431\n",
      "finished 7100 of 7431\n",
      "finished 7200 of 7431\n",
      "finished 7300 of 7431\n",
      "finished 7400 of 7431\n",
      "Elapsed time: 666.0155112743378 seconds\n"
     ]
    }
   ],
   "source": [
    "start_time = time.time()\n",
    "testResult_labels = []\n",
    "testResult_imagePath = []\n",
    "for i in range(features_test.shape[0]):\n",
    "    # Compute the Euclidean distance between each row of A and B\n",
    "    distances = np.linalg.norm(features_train - features_test[i], axis=1)\n",
    "    sorted_indices = np.argsort(distances)\n",
    "    # Find the index corresponding to the 5 minimum distance\n",
    "    smallest_indices = sorted_indices[:5]\n",
    "    testResult_labels.append(labels_train[smallest_indices])\n",
    "    testResult_imagePath.append(imagePath_train[smallest_indices])\n",
    "    if (i+1) % 100 == 0:\n",
    "        print('finished ' + str(i+1) + ' of ' + str(features_test.shape[0]))\n",
    "\n",
    "print(\"Elapsed time:\", time.time() - start_time, \"seconds\")\n",
    "np.savez('./outputs/model1_testResult_' + topicModel + '.npz', testResult_labels=testResult_labels, testResult_imagePath=testResult_imagePath)"
   ]
  },
  {
   "cell_type": "code",
   "execution_count": 5,
   "id": "06f1a4cd-3c32-4611-a964-45a2ad7efa95",
   "metadata": {
    "id": "06f1a4cd-3c32-4611-a964-45a2ad7efa95"
   },
   "outputs": [],
   "source": [
    "# import numpy as np\n",
    "# import faiss\n",
    "\n",
    "\n",
    "# features = np.load('features.npy')\n",
    "\n",
    "# d = features.shape[1]\n",
    "# nb = features.shape[0]\n",
    "# nq = 100  # number of queries\n",
    "\n",
    "# # Randomly generate some vectors to search among\n",
    "# np.random.seed(1234)\n",
    "# xb = np.random.random((nb, d)).astype('float32')\n",
    "# xb[:, 0] += np.arange(nb) / 1000.  # to make them more distinct\n",
    "# xq = np.random.random((nq, d)).astype('float32')\n",
    "\n",
    "# # Build the index\n",
    "# n_bits = 8  # number of bits per vector component for LSH\n",
    "# index = faiss.IndexLSH(d, n_bits)\n",
    "\n",
    "# # Add vectors to the index\n",
    "# index.add(xb)\n",
    "\n",
    "# # Perform a search\n",
    "# D, I = index.search(xq, 5)  # search for the top-5 nearest neighbors\n",
    "\n",
    "# print(\"Indices of nearest neighbors:\\n\", I)\n",
    "# print(\"Distances of nearest neighbors:\\n\", D)\n"
   ]
  }
 ],
 "metadata": {
  "colab": {
   "provenance": []
  },
  "kernelspec": {
   "display_name": "Python 3 (ipykernel)",
   "language": "python",
   "name": "python3"
  },
  "language_info": {
   "codemirror_mode": {
    "name": "ipython",
    "version": 3
   },
   "file_extension": ".py",
   "mimetype": "text/x-python",
   "name": "python",
   "nbconvert_exporter": "python",
   "pygments_lexer": "ipython3",
   "version": "3.10.14"
  }
 },
 "nbformat": 4,
 "nbformat_minor": 5
}
