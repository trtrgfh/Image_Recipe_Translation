{
 "cells": [
  {
   "cell_type": "code",
   "execution_count": 1,
   "id": "a2a3bc84-ca32-4cca-b86f-dbe7e3798703",
   "metadata": {},
   "outputs": [],
   "source": [
    "import pandas as pd\n",
    "import requests\n",
    "from fake_useragent import UserAgent\n",
    "from bs4 import BeautifulSoup"
   ]
  },
  {
   "cell_type": "code",
   "execution_count": 2,
   "id": "b30f3c52-8a28-47b8-8282-fcaec961c4c9",
   "metadata": {},
   "outputs": [],
   "source": [
    "ua = UserAgent()\n",
    "random_agent = ua.random\n",
    "headers = {'User-Agent': random_agent}"
   ]
  },
  {
   "cell_type": "code",
   "execution_count": 3,
   "id": "289a9f41-cd88-4a40-a207-2faeb6fe1dd5",
   "metadata": {},
   "outputs": [],
   "source": [
    "url = 'https://www.foodnetwork.com/recipes/recipes-a-z/123'"
   ]
  },
  {
   "cell_type": "code",
   "execution_count": 4,
   "id": "0a8e7ca2-a657-4a38-84bf-dc1d4c52dd57",
   "metadata": {},
   "outputs": [],
   "source": [
    "r = requests.get(url=url, headers=headers)\n",
    "soup = BeautifulSoup(r.content, 'html.parser')\n",
    "\n",
    "food_alphabet_urls = []\n",
    "for link in soup.find_all('a', class_='o-IndexPagination__a-Button', href=True):\n",
    "    url = 'https:' + link['href']\n",
    "    food_alphabet_urls.append(url)"
   ]
  },
  {
   "cell_type": "code",
   "execution_count": 5,
   "id": "5cac3065",
   "metadata": {},
   "outputs": [
    {
     "data": {
      "text/plain": [
       "['https://www.foodnetwork.com/recipes/recipes-a-z/123',\n",
       " 'https://www.foodnetwork.com/recipes/recipes-a-z/a',\n",
       " 'https://www.foodnetwork.com/recipes/recipes-a-z/b',\n",
       " 'https://www.foodnetwork.com/recipes/recipes-a-z/c',\n",
       " 'https://www.foodnetwork.com/recipes/recipes-a-z/d',\n",
       " 'https://www.foodnetwork.com/recipes/recipes-a-z/e',\n",
       " 'https://www.foodnetwork.com/recipes/recipes-a-z/f',\n",
       " 'https://www.foodnetwork.com/recipes/recipes-a-z/g',\n",
       " 'https://www.foodnetwork.com/recipes/recipes-a-z/h',\n",
       " 'https://www.foodnetwork.com/recipes/recipes-a-z/i',\n",
       " 'https://www.foodnetwork.com/recipes/recipes-a-z/j',\n",
       " 'https://www.foodnetwork.com/recipes/recipes-a-z/k',\n",
       " 'https://www.foodnetwork.com/recipes/recipes-a-z/l',\n",
       " 'https://www.foodnetwork.com/recipes/recipes-a-z/m',\n",
       " 'https://www.foodnetwork.com/recipes/recipes-a-z/n',\n",
       " 'https://www.foodnetwork.com/recipes/recipes-a-z/o',\n",
       " 'https://www.foodnetwork.com/recipes/recipes-a-z/p',\n",
       " 'https://www.foodnetwork.com/recipes/recipes-a-z/q',\n",
       " 'https://www.foodnetwork.com/recipes/recipes-a-z/r',\n",
       " 'https://www.foodnetwork.com/recipes/recipes-a-z/s',\n",
       " 'https://www.foodnetwork.com/recipes/recipes-a-z/t',\n",
       " 'https://www.foodnetwork.com/recipes/recipes-a-z/u',\n",
       " 'https://www.foodnetwork.com/recipes/recipes-a-z/v',\n",
       " 'https://www.foodnetwork.com/recipes/recipes-a-z/w',\n",
       " 'https://www.foodnetwork.com/recipes/recipes-a-z/xyz']"
      ]
     },
     "execution_count": 5,
     "metadata": {},
     "output_type": "execute_result"
    }
   ],
   "source": [
    "food_alphabet_urls"
   ]
  },
  {
   "cell_type": "code",
   "execution_count": 6,
   "id": "8829cac8-15ab-4e42-8b9a-c03c55211755",
   "metadata": {},
   "outputs": [],
   "source": [
    "data = {'food': [], 'ingredients': [], 'steps': [], 'images': []}"
   ]
  },
  {
   "cell_type": "code",
   "execution_count": 7,
   "id": "981cedf1-a6f5-493e-ab1b-43a485a4e899",
   "metadata": {},
   "outputs": [],
   "source": [
    "def get_recipe_df(recipe_url):\n",
    "    global data\n",
    "    try:\n",
    "        r = requests.get(url=recipe_url, headers=headers)\n",
    "    except:\n",
    "        print('invalida url')\n",
    "        return\n",
    "        \n",
    "    soup = BeautifulSoup(r.content, 'html.parser')\n",
    "    \n",
    "    food = soup.find('span', class_='o-AssetTitle__a-HeadlineText')\n",
    "    food_name = ''\n",
    "    if food:\n",
    "        food_name = food.get_text(strip=True)      \n",
    "    data['food'].append(food_name)\n",
    "    \n",
    "    ingredients_all = soup.find_all('p', class_='o-Ingredients__a-Ingredient')\n",
    "    ingredients = []\n",
    "    for ing in ingredients_all:\n",
    "        ingredient = ing.find('span', class_='o-Ingredients__a-Ingredient--CheckboxLabel')\n",
    "        if ingredient:\n",
    "            ingredient_text = ingredient.get_text(strip=True)\n",
    "            ingredients.append(ingredient_text)\n",
    "    data['ingredients'].append('\\n'.join(ingredients[1:]))\n",
    "\n",
    "\n",
    "    directions_ol_tags = soup.find_all('ol')\n",
    "    steps = []\n",
    "    i = 1\n",
    "    for ol_tag in directions_ol_tags:\n",
    "        li_tags = ol_tag.find_all('li', class_='o-Method__m-Step')\n",
    "        for li_tag in li_tags:\n",
    "            steps.append(f\"Step {i}: {li_tag.get_text(strip=True)}\")\n",
    "            i+=1\n",
    "    data['steps'].append('\\n'.join(steps))\n",
    "\n",
    "    img_tag = soup.find('img', class_='m-MediaBlock__a-Image')\n",
    "    image_url = ''\n",
    "    if img_tag and 'src' in img_tag.attrs:\n",
    "            image_url = 'https:' + img_tag['src']\n",
    "    else:\n",
    "        img_tag = soup.find('img', class_='kdp-poster__image')\n",
    "        if img_tag and 'src' in img_tag.attrs:\n",
    "            image_url = 'https:' + img_tag['src']\n",
    "    data['images'].append(image_url)"
   ]
  },
  {
   "cell_type": "code",
   "execution_count": 9,
   "id": "8cf4df1e-17c6-4a82-ae24-561e03af1dc5",
   "metadata": {},
   "outputs": [],
   "source": [
    "recipes = []\n",
    "for url in food_alphabet_urls: \n",
    "    while True:\n",
    "        # get all recipes on current page\n",
    "        r = requests.get(url=url, headers=headers)\n",
    "        soup = BeautifulSoup(r.content, 'html.parser')\n",
    "        link_elements = soup.find_all('ul', class_='m-PromoList o-Capsule__m-PromoList')\n",
    "        for link in link_elements:\n",
    "            for a in link.find_all('a'):\n",
    "                recipe_url = 'https:' + a.get('href')\n",
    "                recipes.append(recipe_url)\n",
    "                get_recipe_df(recipe_url)\n",
    "        # iterate to next page\n",
    "        next_page_link = soup.find('a', class_='o-Pagination__a-NextButton')\n",
    "        if next_page_link and not 'is-Disabled' in next_page_link.get('class', []):\n",
    "            url = 'https:' + next_page_link['href']\n",
    "        else:\n",
    "            break"
   ]
  },
  {
   "cell_type": "code",
   "execution_count": null,
   "id": "85099dd4",
   "metadata": {},
   "outputs": [],
   "source": [
    "len(data['food']), len(data['ingredients']), len(data['steps']), len(data['images'])"
   ]
  },
  {
   "cell_type": "code",
   "execution_count": null,
   "id": "646b7bf0-dfbf-49b9-8735-e5df56a662ff",
   "metadata": {
    "scrolled": true
   },
   "outputs": [],
   "source": [
    "df = pd.DataFrame(data)"
   ]
  },
  {
   "cell_type": "code",
   "execution_count": null,
   "id": "b7f0de65-a9db-4634-b4c7-ae347ed9730d",
   "metadata": {},
   "outputs": [],
   "source": [
    "df"
   ]
  },
  {
   "cell_type": "code",
   "execution_count": null,
   "id": "d2058e19",
   "metadata": {},
   "outputs": [],
   "source": [
    "rows_empty_string = df.map(lambda x: x=='').any(axis=1)\n",
    "n_rows_empty_string = rows_empty_string.sum()\n",
    "n_rows_empty_string"
   ]
  },
  {
   "cell_type": "code",
   "execution_count": null,
   "id": "f49501ae",
   "metadata": {},
   "outputs": [],
   "source": [
    "df = df[~rows_empty_string]\n",
    "df.shape"
   ]
  },
  {
   "cell_type": "code",
   "execution_count": null,
   "id": "ca065450",
   "metadata": {},
   "outputs": [],
   "source": [
    "df = df.drop_duplicates(subset='food', keep=False)"
   ]
  },
  {
   "cell_type": "code",
   "execution_count": null,
   "id": "c7f2a2cf",
   "metadata": {},
   "outputs": [],
   "source": [
    "df = df.drop_duplicates(subset='images', keep=False)"
   ]
  },
  {
   "cell_type": "code",
   "execution_count": null,
   "id": "913880cc",
   "metadata": {},
   "outputs": [],
   "source": [
    "df"
   ]
  },
  {
   "cell_type": "code",
   "execution_count": null,
   "id": "9843babe-0927-4197-981b-217a45d9a372",
   "metadata": {},
   "outputs": [],
   "source": [
    "# df.to_excel('foodnetwork_data.xlsx', index=False) \n",
    "df = pd.read_excel('./data/foodnetwork_data.xlsx')"
   ]
  },
  {
   "cell_type": "code",
   "execution_count": null,
   "id": "595d5863",
   "metadata": {},
   "outputs": [],
   "source": []
  },
  {
   "cell_type": "code",
   "execution_count": null,
   "id": "418f2894",
   "metadata": {},
   "outputs": [],
   "source": [
    "output_folder = \"./data/images/foodnetwork_images\""
   ]
  },
  {
   "cell_type": "code",
   "execution_count": null,
   "id": "855d330f",
   "metadata": {
    "scrolled": true
   },
   "outputs": [],
   "source": [
    "# Create an output directory if it doesn't exist\n",
    "if not os.path.exists(output_folder):\n",
    "    os.makedirs(output_folder)\n",
    "\n",
    "for index, row in df.iterrows():\n",
    "    url = row['images'].split('\\n')[0]\n",
    "    try:\n",
    "        response = requests.get(url, stream=True)\n",
    "        if response.status_code == 200:\n",
    "            image_content = response.content\n",
    "#             image_name = f'image_{index}.jpg'\n",
    "            image_name = url.split('/')[-1] or f'image_{index}.jpg'\n",
    "\n",
    "            with open(os.path.join(output_folder, image_name), 'wb') as image_file:\n",
    "                image_file.write(image_content)\n",
    "            print(f'Successfully downloaded {image_name}')\n",
    "        else:\n",
    "            print(f'Failed to download image from {url}')\n",
    "    except:\n",
    "        print(f'An error occurred while downloading image from {url}')"
   ]
  },
  {
   "cell_type": "code",
   "execution_count": null,
   "id": "cbadc331",
   "metadata": {},
   "outputs": [],
   "source": []
  }
 ],
 "metadata": {
  "kernelspec": {
   "display_name": "dl_final_project",
   "language": "python",
   "name": "dl_final_project"
  },
  "language_info": {
   "codemirror_mode": {
    "name": "ipython",
    "version": 3
   },
   "file_extension": ".py",
   "mimetype": "text/x-python",
   "name": "python",
   "nbconvert_exporter": "python",
   "pygments_lexer": "ipython3",
   "version": "3.12.3"
  }
 },
 "nbformat": 4,
 "nbformat_minor": 5
}
